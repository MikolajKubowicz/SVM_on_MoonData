{
  "nbformat": 4,
  "nbformat_minor": 0,
  "metadata": {
    "colab": {
      "provenance": []
    },
    "kernelspec": {
      "name": "python3",
      "display_name": "Python 3"
    },
    "language_info": {
      "name": "python"
    }
  },
  "cells": [
    {
      "cell_type": "code",
      "execution_count": 6,
      "metadata": {
        "id": "B2CPd61Kvh6W"
      },
      "outputs": [],
      "source": [
        "from sklearn.datasets import make_moons\n",
        "\n",
        "randstate = 123\n",
        "dat = make_moons(10000, noise=.1, random_state=randstate)\n",
        "X = dat[0]\n",
        "y = dat[1]"
      ]
    },
    {
      "cell_type": "code",
      "source": [
        "from sklearn.model_selection import train_test_split\n",
        "X_train, X_test, y_train, y_test = train_test_split(X,y, test_size=0.2, random_state = randstate)\n"
      ],
      "metadata": {
        "id": "l_Iu1E_bxknY"
      },
      "execution_count": 7,
      "outputs": []
    },
    {
      "cell_type": "code",
      "source": [
        "from sklearn.svm import SVC\n",
        "svc = SVC(kernel='linear', C=1.0, random_state=randstate)\n",
        "svc.fit(X_train, y_train)\n",
        "\n",
        "\n",
        "len(svc.support_)"
      ],
      "metadata": {
        "colab": {
          "base_uri": "https://localhost:8080/"
        },
        "id": "IFMIXP2ZyaED",
        "outputId": "cfc47d36-875d-4290-acd4-b5dc4906c65c"
      },
      "execution_count": 11,
      "outputs": [
        {
          "output_type": "execute_result",
          "data": {
            "text/plain": [
              "2142"
            ]
          },
          "metadata": {},
          "execution_count": 11
        }
      ]
    },
    {
      "cell_type": "code",
      "source": [
        "from sklearn.metrics import accuracy_score\n",
        "\n",
        "preds = svc.predict(X_test)\n",
        "accuracy_score(y_test, preds)"
      ],
      "metadata": {
        "colab": {
          "base_uri": "https://localhost:8080/"
        },
        "id": "QXllJ9112yAS",
        "outputId": "20584026-1592-4edf-ddcc-d5f04e51e9be"
      },
      "execution_count": 12,
      "outputs": [
        {
          "output_type": "execute_result",
          "data": {
            "text/plain": [
              "0.88"
            ]
          },
          "metadata": {},
          "execution_count": 12
        }
      ]
    },
    {
      "cell_type": "code",
      "source": [
        "svc = SVC(kernel='rbf', C=1, gamma=.5, random_state=randstate)\n",
        "\n",
        "svc.fit(X_train, y_train)\n",
        "len(svc.support_)"
      ],
      "metadata": {
        "colab": {
          "base_uri": "https://localhost:8080/"
        },
        "id": "-dRFQdp-3QZB",
        "outputId": "7bbcd363-2740-4b58-f932-db656c138dca"
      },
      "execution_count": 24,
      "outputs": [
        {
          "output_type": "execute_result",
          "data": {
            "text/plain": [
              "342"
            ]
          },
          "metadata": {},
          "execution_count": 24
        }
      ]
    },
    {
      "cell_type": "code",
      "source": [
        "from sklearn.metrics import accuracy_score\n",
        "preds1 = svc.predict(X_test)\n",
        "\n",
        "accuracy_score(y_test, preds1)"
      ],
      "metadata": {
        "colab": {
          "base_uri": "https://localhost:8080/"
        },
        "id": "7hksuG6V4vZg",
        "outputId": "6a8e31ee-29a3-4ac1-e73c-f1af44a527ca"
      },
      "execution_count": 15,
      "outputs": [
        {
          "output_type": "execute_result",
          "data": {
            "text/plain": [
              "0.999"
            ]
          },
          "metadata": {},
          "execution_count": 15
        }
      ]
    },
    {
      "cell_type": "code",
      "source": [
        "svc = SVC(kernel='rbf', C=1, gamma=\"scale\", random_state=randstate)\n",
        "svc.fit(X_train, y_train)\n",
        "len(svc.support_)"
      ],
      "metadata": {
        "colab": {
          "base_uri": "https://localhost:8080/"
        },
        "id": "3ClDK8Wb5D4f",
        "outputId": "4c592b51-4bdf-40c5-b290-261f30075536"
      },
      "execution_count": 16,
      "outputs": [
        {
          "output_type": "execute_result",
          "data": {
            "text/plain": [
              "174"
            ]
          },
          "metadata": {},
          "execution_count": 16
        }
      ]
    },
    {
      "cell_type": "code",
      "source": [
        "print(svc.dual_coef_.shape)"
      ],
      "metadata": {
        "colab": {
          "base_uri": "https://localhost:8080/"
        },
        "id": "G5Mn3JhM5sM2",
        "outputId": "9f71709e-b831-4061-e16c-f9ac97715732"
      },
      "execution_count": 17,
      "outputs": [
        {
          "output_type": "stream",
          "name": "stdout",
          "text": [
            "(1, 174)\n"
          ]
        }
      ]
    },
    {
      "cell_type": "code",
      "source": [
        "svc = SVC(kernel='rbf', C=1, gamma= 0.00001, random_state=randstate)\n",
        "svc.fit(X_train, y_train)\n",
        "preds2 = svc.predict(X_train)\n",
        "accuracy_score(y_train, preds2)"
      ],
      "metadata": {
        "colab": {
          "base_uri": "https://localhost:8080/"
        },
        "id": "HJhzNilv59Bb",
        "outputId": "2f9261dc-459a-4c75-9aa6-ccbf07784710"
      },
      "execution_count": 20,
      "outputs": [
        {
          "output_type": "execute_result",
          "data": {
            "text/plain": [
              "0.502375"
            ]
          },
          "metadata": {},
          "execution_count": 20
        }
      ]
    }
  ]
}